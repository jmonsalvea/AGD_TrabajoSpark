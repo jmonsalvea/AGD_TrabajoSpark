{
 "cells": [
  {
   "cell_type": "markdown",
   "metadata": {},
   "source": [
    "# Análisis e Implementación en SparkQL\n",
    "\n",
    "* Entrega hasta el 24 de mayo en https://forms.gle/aRiWtjayausRFCTd8\n",
    "\n",
    "* Los dos conjuntos de datos entregados, CSV separados por coma, Evaluación del Pitch (2021.04.13 ISoftware).csv y Asistencia del Pitch (2021.04.13 ISoftware).csv proceden de dos encuestas realizadas con Google Forms.\n",
    "\n",
    "* Los archivos proceden de las evaluaciones de los pitch (exposiciones cortas de negocio) que realizan los estudiantes de la asignatura de Ingeniería de Software. Los estudiantes están organizados en equipos. Cada equipo realiza una presentación de máximo 15 minutos, una vez inicia la presentación todos los estudiantes deben registrar su asistencia lo cual queda registrado en 'Asistencia del Pitch (2021.04.13 ISoftware).csv' incluidos los miembros del equipo.\n",
    "\n",
    "* El archivo `Asistencia del Pitch (2021.04.13 ISoftware).csv` contiene las columnas: `\"Marca temporal\"` es tiempo dado en fecha y hora, `\"Nombre de usuario\"` es el correo electrónico del estudiante y es texto,`\"Equipo al que perteneces:\"` equipo de trabajo al que pertenece el estudiante también es texto y `\"Equipo que va a exponer:\"` equipo que el estudiante va a tender a su presentación.\n",
    "\n",
    "* El archivo `Evaluación del Pitch (2021.04.13 ISoftware).csv` contiene las columnas `\"Marca temporal\"` es tiempo dado en fecha y hora, `\"Nombre de usuario\"` es el correo electrónico del estudiante y es texto, `\"Equipo que vas a evaluar:\"` equipo que ha expuesto y que va a ser evaluado por cada estudiante que no sea integrante; a continuación, se tienen las siguientes columnas que corresponden a la evaluación de los respectivos ítems:\n",
    "\n",
    "    1. \"Introducción: El equipo responde adecuadamente ¿Quiénes son y por qué están aquí?\",\n",
    "    2. \"Equipo: El equipo responde adecuadamente ¿Quiénes están detrás de la idea y cuál es su función?\",\n",
    "    3. \"Problema: El equipo responde adecuadamente ¿Qué problema resolverá?, ¿es realmente un problema?\",\n",
    "    4. \"Ventajas: El equipo responde adecuadamente ¿Por qué su solución es especial?, ¿qué la hace distinta de otras?\",\n",
    "    5. \"Solución: El equipo responde adecuadamente ¿Cómo piensa resolver el problema?\",\n",
    "    6. \"Producto: El equipo responde adecuadamente ¿Cómo funciona el producto o servicio? Muestra algunos ejemplos.\",\n",
    "    7. \"Tracción: El equipo responde adecuadamente si cuenta con clientes que demuestran potencial.\",\n",
    "    8. \"Mercado: El equipo responde conoce, o por lo menos intentar predecir, el tamaño del mercado que impactará.\",\n",
    "    9. \"Competencia: El equipo responde adecuadamente ¿Cuáles son las soluciones alternativas al problema que plantea?\",\n",
    "    10. \"Modelo de negocio: El equipo responde adecuadamente ¿Cómo hará dinero? \",\n",
    "    11. \"Inversión: El equipo responde adecuadamente ¿Cuál es su presupuesto y cuánto espera ganar?\",\n",
    "    12. \"Contacto: El equipo deja los datos al cliente y muestra cómo pueden contactarle.\",\n",
    "    13. \"Exposición: ¿Qué tan coordinados estaban los expositores?\",\n",
    "    14. \"Exposición: ¿Los expositores se expresaron con claridad y se hicieron entender?\",\n",
    "    15. \"Exposición: Las diapositivas son claras y coherentes y apoyaron adecuadamente la exposición.\",\n",
    "    * \"Suponiendo que eres inversionista, ¿Estarías dispuesto a invertir dinero en este equipo? (esta pregunta no se pondera en la nota)\",\n",
    "    * \"Observaciones para el equipo, estas observaciones las debe considerar el equipo para mejorar la siguiente presentación.\"\n",
    "\n",
    "\n",
    "* Cada ítem se evalúa con la siguiente escala: 0. Ausente; 1. Deficiente; 2. Regular; 3. Aceptable; 4. Bueno; 5. Excelente\n",
    "\n",
    "* Carge los datos, cada archivo en una tabla SparkSQL y responda cada una de las consultas dadas en cada celda. Tenga en cuenta que algunas consultas pueden tener como resultado el vacío."
   ]
  },
  {
   "cell_type": "markdown",
   "metadata": {},
   "source": [
    "# Integrantes del equipo\n",
    "1. Natalia Lopez Gallego\n",
    "2. Julian Monsalve Acevedo\n",
    "3. Valentina Aristizabal\n",
    "4. David Esteban De Los Rios\n",
    "5. Santiago Gonzalez Quiroz"
   ]
  },
  {
   "cell_type": "code",
   "execution_count": 1,
   "metadata": {},
   "outputs": [],
   "source": [
    "# Agrege acá el código para importar las librerias\n",
    "from pyspark.sql import functions as F\n",
    "from pyspark.sql.functions import *\n",
    "import pandas as pd\n",
    "from pyspark.sql.functions import to_timestamp\n",
    "# La libreria para \"encontrar el sevicio\" de Spark\n",
    "import findspark\n",
    "findspark.init()\n",
    "\n",
    "# Librerias para \"gestionar el servicio\" de Spark\n",
    "from pyspark import SparkConf, SparkContext\n",
    "from pyspark.sql import SQLContext, SparkSession\n",
    "\n",
    "# Creamos una aplicación Spark en el Servicio\n",
    "# Tenga cuidado con las tildes o caracteres especiales en el nombre de la app\n",
    "AppSpark = SparkConf().setAppName(\"Evaluacion iSofware\")\n",
    "\n",
    "# definimos un espacio o contexto para la App\n",
    "ContextoSpark=SparkContext(conf=AppSpark)\n",
    "\n",
    "# inicio una sesión en el espacio de la App\n",
    "SesionSpark = SparkSession(ContextoSpark)\n",
    "\n",
    "# inicio del espacio o contexto SQL\n",
    "ContextoSql = SQLContext(sparkContext=ContextoSpark, sparkSession=SesionSpark)"
   ]
  },
  {
   "cell_type": "code",
   "execution_count": 3,
   "metadata": {},
   "outputs": [],
   "source": [
    "# 1. Cargue los datos en la carpeta datalake y luego del /datalake al HDFS (Hadoop File System)\n",
    "# Recuerda usar ! para ejecutar el comando en el shell. \n",
    "# Tu código a continuación...\n",
    "\n",
    "!hdfs dfs -copyFromLocal 'asistencia.csv' /tmp"
   ]
  },
  {
   "cell_type": "code",
   "execution_count": 5,
   "metadata": {},
   "outputs": [],
   "source": [
    "!hdfs dfs -copyFromLocal 'evaluacion.csv' /tmp"
   ]
  },
  {
   "cell_type": "code",
   "execution_count": 6,
   "metadata": {},
   "outputs": [
    {
     "name": "stdout",
     "output_type": "stream",
     "text": [
      "Found 2 items\n",
      "-rw-r--r--   1 root supergroup      93121 2021-05-14 00:07 /tmp/asistencia.csv\n",
      "-rw-r--r--   1 root supergroup     111944 2021-05-14 00:08 /tmp/evaluacion.csv\n"
     ]
    }
   ],
   "source": [
    "!hadoop fs -ls /tmp"
   ]
  },
  {
   "cell_type": "code",
   "execution_count": 209,
   "metadata": {},
   "outputs": [],
   "source": [
    "# 2. Cree dos tablas SparkSQL y almacene el csv en su correspondiente tabla.\n",
    "# Observación: tenga especial cuidado con los encabezados de los archivos CSV.\n",
    "# Usted puede considerar cambiar los encabezados de los CSV originales\n",
    "# Tu código a continuación...\n",
    "\n",
    "\n",
    "Asistencia = ContextoSql.read.load('/tmp/asistencia.csv',\n",
    "                           format=\"csv\",sep=',',\n",
    "                           inferSchema='true',\n",
    "                           header='true')\n",
    "Evaluacion = ContextoSql.read.load('/tmp/evaluacion.csv',\n",
    "                           format=\"csv\",sep=',',\n",
    "                           inferSchema='true',\n",
    "                           header='true')"
   ]
  },
  {
   "cell_type": "code",
   "execution_count": 210,
   "metadata": {},
   "outputs": [
    {
     "name": "stdout",
     "output_type": "stream",
     "text": [
      "root\n",
      " |-- Marca temporal: string (nullable = true)\n",
      " |-- Nombre de usuario: string (nullable = true)\n",
      " |-- Equipo al que perteneces:: string (nullable = true)\n",
      " |-- Equipo que va a exponer:: string (nullable = true)\n",
      "\n"
     ]
    }
   ],
   "source": [
    "Asistencia.printSchema()"
   ]
  },
  {
   "cell_type": "code",
   "execution_count": 211,
   "metadata": {},
   "outputs": [
    {
     "name": "stdout",
     "output_type": "stream",
     "text": [
      "root\n",
      " |-- Marca temporal: string (nullable = true)\n",
      " |-- Nombre de usuario: string (nullable = true)\n",
      " |-- Equipo que vas a evaluar:: string (nullable = true)\n",
      " |-- Introducción: El equipo responde adecuadamente ¿Quiénes son y por qué están aquí?: integer (nullable = true)\n",
      " |-- Equipo: El equipo responde adecuadamente ¿Quiénes están detrás de la idea y cuál es su función?: integer (nullable = true)\n",
      " |-- Problema: El equipo responde adecuadamente ¿Qué problema resolverá?, ¿es realmente un problema?: integer (nullable = true)\n",
      " |-- Ventajas: El equipo responde adecuadamente ¿Por qué su solución es especial?, ¿qué la hace distinta de otras?: integer (nullable = true)\n",
      " |-- Solución: El equipo responde adecuadamente ¿Cómo piensa resolver el problema?: integer (nullable = true)\n",
      " |-- Producto: El equipo responde adecuadamente ¿Cómo funciona el producto o servicio? Muestra algunos ejemplos.: integer (nullable = true)\n",
      " |-- Tracción: El equipo responde adecuadamente si cuenta con clientes que demuestran potencial.: integer (nullable = true)\n",
      " |-- Mercado: El equipo responde conoce, o por lo menos intentar predecir, el tamaño del mercado que impactará.: integer (nullable = true)\n",
      " |-- Competencia: El equipo responde adecuadamente ¿Cuáles son las soluciones alternativas al problema que plantea?: integer (nullable = true)\n",
      " |-- Modelo de negocio: El equipo responde adecuadamente ¿Cómo hará dinero? : integer (nullable = true)\n",
      " |-- Inversión: El equipo responde adecuadamente ¿Cuál es su presupuesto y cuánto espera ganar?: integer (nullable = true)\n",
      " |-- Contacto: El equipo deja los datos al cliente y muestra cómo pueden contactarle.: integer (nullable = true)\n",
      " |-- Exposición: ¿Qué tan coordinados estaban los expositores?: integer (nullable = true)\n",
      " |-- Exposición: ¿Los expositores se expresaron con claridad y se hicieron entender?: integer (nullable = true)\n",
      " |-- Exposición: Las diapositivas son claras y coherentes y apoyaron adecuadamente la exposición.: integer (nullable = true)\n",
      " |-- Suponiendo que eres inversionista, ¿Estarías dispuesto a invertir dinero en este equipo? (esta pregunta no se pondera en la nota): string (nullable = true)\n",
      " |-- Observaciones para el equipo, estas observaciones las debe considerar el equipo para mejorar la siguiente presentación.: string (nullable = true)\n",
      "\n"
     ]
    }
   ],
   "source": [
    "Evaluacion.printSchema()"
   ]
  },
  {
   "cell_type": "code",
   "execution_count": 214,
   "metadata": {},
   "outputs": [
    {
     "name": "stdout",
     "output_type": "stream",
     "text": [
      "+--------------------+\n",
      "|   Nombre de usuario|\n",
      "+--------------------+\n",
      "| abanolc@unal.edu.co|\n",
      "|acastrillonv@unal...|\n",
      "| aflemag@unal.edu.co|\n",
      "|anapariciom@unal....|\n",
      "|angutierrezb@unal...|\n",
      "|anoriega@unal.edu.co|\n",
      "|auarbelaeza@unal....|\n",
      "| bocampo@unal.edu.co|\n",
      "|cgiraldo@unal.edu.co|\n",
      "|cjfunezg@unal.edu.co|\n",
      "|cquinchiar@unal.e...|\n",
      "| dadazam@unal.edu.co|\n",
      "|daestradam@unal.e...|\n",
      "|davgarciava@unal....|\n",
      "|dballesteroso@una...|\n",
      "|  dbrito@unal.edu.co|\n",
      "|dcadavid@unal.edu.co|\n",
      "|dcardonaal@unal.e...|\n",
      "|dchavarriar@unal....|\n",
      "|dgarciabl@unal.ed...|\n",
      "|dgerenal@unal.edu.co|\n",
      "|dgiraldolo@unal.e...|\n",
      "|dguardia@unal.edu.co|\n",
      "|dosoriom@unal.edu.co|\n",
      "| eapenad@unal.edu.co|\n",
      "|elondonoc@unal.ed...|\n",
      "|emflorezb@unal.ed...|\n",
      "|emlopezr@unal.edu.co|\n",
      "|eporrasm@unal.edu.co|\n",
      "|esgarciac@unal.ed...|\n",
      "|favasquezj@unal.e...|\n",
      "|fguerrerot@unal.e...|\n",
      "|fmiranda@unal.edu.co|\n",
      "|framirezf@unal.ed...|\n",
      "|hriveraa@unal.edu.co|\n",
      "|jcardonaso@unal.e...|\n",
      "|jcorreapa@unal.ed...|\n",
      "|jdroldano@unal.ed...|\n",
      "|jfernandezmo@unal...|\n",
      "|jgutierrezlo@unal...|\n",
      "|jhcordoba@unal.ed...|\n",
      "|jjmonsalvem@unal....|\n",
      "|jlopezpe@unal.edu.co|\n",
      "|jmonsalveb@unal.e...|\n",
      "|jmunozbo@unal.edu.co|\n",
      "|jmunozhe@unal.edu.co|\n",
      "| jortize@unal.edu.co|\n",
      "|jovillarrealm@una...|\n",
      "|jppinedal@unal.ed...|\n",
      "| jruedat@unal.edu.co|\n",
      "|jspatinoa@unal.ed...|\n",
      "|jubuitrago@unal.e...|\n",
      "|jucardonaa@unal.e...|\n",
      "|jugutierrezt@unal...|\n",
      "|juochoag@unal.edu.co|\n",
      "|juortizt@unal.edu.co|\n",
      "|juriveras@unal.ed...|\n",
      "|keariasb@unal.edu.co|\n",
      "| kmolano@unal.edu.co|\n",
      "|lbarcelo@unal.edu.co|\n",
      "|  lmayar@unal.edu.co|\n",
      "|   lmazo@unal.edu.co|\n",
      "| lrdiaza@unal.edu.co|\n",
      "|lumarinb@unal.edu.co|\n",
      "| mcallea@unal.edu.co|\n",
      "|mcarvajalsa@unal....|\n",
      "|mhernandezbe@unal...|\n",
      "|mimorenov@unal.ed...|\n",
      "|mizapataa@unal.ed...|\n",
      "|nsalinas@unal.edu.co|\n",
      "|nvalenciat@unal.e...|\n",
      "|parestrepoo@unal....|\n",
      "|rmbuilesm@unal.ed...|\n",
      "|sacastrot@unal.ed...|\n",
      "|saespinosab@unal....|\n",
      "|samolinap@unal.ed...|\n",
      "|sasalazarr@unal.e...|\n",
      "|seagudeloo@unal.e...|\n",
      "|sebermudezg@unal....|\n",
      "|sednarvaezna@unal...|\n",
      "|serendona@unal.ed...|\n",
      "|   tleon@unal.edu.co|\n",
      "| wocampo@unal.edu.co|\n",
      "+--------------------+\n",
      "\n"
     ]
    }
   ],
   "source": [
    "# 2. Consulte el listado total de estudiantes (correos electrónicos) del \n",
    "# curso de Ingeniería de Software, ordenados alfabéticamente\n",
    "# Tu código a continuación...\n",
    "\n",
    "Evaluacion = Evaluacion.filter(Evaluacion[\"Nombre de usuario\"].contains(\"@\"))\n",
    "Evaluacion = Evaluacion.withColumn('Nombre de usuario',trim(Evaluacion['Nombre de usuario'])) ## trim \n",
    "Evaluacion.select('Nombre de usuario').distinct().orderBy('Nombre de usuario',ascending=True).show(10000)"
   ]
  },
  {
   "cell_type": "code",
   "execution_count": 215,
   "metadata": {},
   "outputs": [
    {
     "name": "stdout",
     "output_type": "stream",
     "text": [
      "+--------------------+---------------------+-------------------+-------------------+\n",
      "|   Nombre de usuario|Número de asistencias|  Última asistencia| Primera asistencia|\n",
      "+--------------------+---------------------+-------------------+-------------------+\n",
      "|anapariciom@unal....|                   10|2021-04-13 09:38:51|2021-04-08 08:11:49|\n",
      "|favasquezj@unal.e...|                   10|2021-04-13 09:41:00|2021-04-08 08:10:59|\n",
      "|jovillarrealm@una...|                   10|2021-04-13 09:42:55|2021-04-08 08:22:36|\n",
      "|samolinap@unal.ed...|                   10|2021-04-13 09:37:26|2021-04-08 08:11:43|\n",
      "| dadazam@unal.edu.co|                    9|2021-04-13 09:41:14|2021-04-08 08:13:18|\n",
      "|dgarciabl@unal.ed...|                    9|2021-04-13 09:41:04|2021-04-08 08:09:39|\n",
      "|esgarciac@unal.ed...|                    9|2021-04-13 09:39:45|2021-04-08 08:24:10|\n",
      "|jcardonaso@unal.e...|                    9|2021-04-13 09:44:24|2021-04-08 08:10:54|\n",
      "|jlopezpe@unal.edu.co|                    9|2021-04-13 09:09:32|2021-04-08 08:10:54|\n",
      "|jspatinoa@unal.ed...|                    9|2021-04-13 09:41:17|2021-04-08 08:17:24|\n",
      "|  lmayar@unal.edu.co|                    9|2021-04-13 09:39:42|2021-04-08 08:13:13|\n",
      "|lumarinb@unal.edu.co|                    9|2021-04-13 09:43:24|2021-04-08 08:10:52|\n",
      "|mimorenov@unal.ed...|                    9|2021-04-13 09:39:01|2021-04-08 08:10:49|\n",
      "|rmbuilesm@unal.ed...|                    9|2021-04-13 09:41:30|2021-04-08 08:14:16|\n",
      "|saespinosab@unal....|                    9|2021-04-13 09:51:03|2021-04-08 08:31:44|\n",
      "|sasalazarr@unal.e...|                    9|2021-04-13 09:40:30|2021-04-08 08:13:20|\n",
      "|sebermudezg@unal....|                    9|2021-04-13 09:40:15|2021-04-08 08:13:01|\n",
      "|acastrillonv@unal...|                    8|2021-04-13 09:43:13|2021-04-08 08:13:06|\n",
      "| aflemag@unal.edu.co|                    8|2021-04-13 09:41:54|2021-04-08 08:11:58|\n",
      "|angutierrezb@unal...|                    8|2021-04-13 09:43:54|2021-04-08 08:19:06|\n",
      "|anoriega@unal.edu.co|                    8|2021-04-13 09:40:20|2021-04-08 08:15:18|\n",
      "|auarbelaeza@unal....|                    8|2021-04-13 09:41:04|2021-04-08 08:09:53|\n",
      "| bocampo@unal.edu.co|                    8|2021-04-13 09:42:16|2021-04-08 08:13:30|\n",
      "|cgiraldo@unal.edu.co|                    8|2021-04-13 09:56:44|2021-04-08 08:44:23|\n",
      "|cjfunezg@unal.edu.co|                    8|2021-04-13 09:41:46|2021-04-08 08:12:15|\n",
      "|daestradam@unal.e...|                    8|2021-04-13 09:44:39|2021-04-08 08:10:39|\n",
      "|davgarciava@unal....|                    8|2021-04-13 09:42:39|2021-04-08 08:13:45|\n",
      "|dballesteroso@una...|                    8|2021-04-13 09:49:07|2021-04-08 08:14:23|\n",
      "|dcadavid@unal.edu.co|                    8|2021-04-13 09:40:58|2021-04-08 08:13:07|\n",
      "|dcardonaal@unal.e...|                    8|2021-04-13 09:42:14|2021-04-08 08:12:03|\n",
      "|dchavarriar@unal....|                    8|2021-04-13 09:43:56|2021-04-08 08:13:08|\n",
      "|dgerenal@unal.edu.co|                    8|2021-04-13 09:41:27|2021-04-08 08:10:03|\n",
      "|dgiraldolo@unal.e...|                    8|2021-04-13 09:09:01|2021-04-08 08:12:03|\n",
      "|dguardia@unal.edu.co|                    8|2021-04-13 09:40:35|2021-04-08 08:12:56|\n",
      "| eapenad@unal.edu.co|                    8|2021-04-13 09:39:49|2021-04-08 08:12:51|\n",
      "|elondonoc@unal.ed...|                    8|2021-04-13 09:41:22|2021-04-08 08:13:46|\n",
      "|emflorezb@unal.ed...|                    8|2021-04-13 09:45:49|2021-04-08 08:14:04|\n",
      "|fguerrerot@unal.e...|                    8|2021-04-13 09:40:15|2021-04-08 08:13:08|\n",
      "|fmiranda@unal.edu.co|                    8|2021-04-13 09:45:07|2021-04-08 08:10:18|\n",
      "|framirezf@unal.ed...|                    8|2021-04-13 09:39:35|2021-04-08 08:11:26|\n",
      "|jcorreapa@unal.ed...|                    8|2021-04-13 09:41:58|2021-04-08 08:13:08|\n",
      "|jfernandezmo@unal...|                    8|2021-04-13 09:41:28|2021-04-08 08:12:01|\n",
      "|jgutierrezlo@unal...|                    8|2021-04-13 09:39:06|2021-04-08 08:12:09|\n",
      "|jjmonsalvem@unal....|                    8|2021-04-13 09:40:27|2021-04-08 08:13:31|\n",
      "|jmonsalveb@unal.e...|                    8|2021-04-13 09:40:33|2021-04-08 08:10:29|\n",
      "|jmunozbo@unal.edu.co|                    8|2021-04-13 09:44:37|2021-04-08 08:10:36|\n",
      "|jmunozhe@unal.edu.co|                    8|2021-04-13 10:05:45|2021-04-08 08:09:55|\n",
      "| jortize@unal.edu.co|                    8|2021-04-13 09:58:58|2021-04-08 08:13:07|\n",
      "| jruedat@unal.edu.co|                    8|2021-04-13 09:41:27|2021-04-08 08:12:55|\n",
      "|jubuitrago@unal.e...|                    8|2021-04-13 09:41:10|2021-04-08 08:13:01|\n",
      "|jucardonaa@unal.e...|                    8|2021-04-13 09:59:38|2021-04-08 08:10:26|\n",
      "|jugutierrezt@unal...|                    8|2021-04-13 09:42:14|2021-04-08 08:13:15|\n",
      "|juochoag@unal.edu.co|                    8|2021-04-13 09:42:30|2021-04-08 08:14:19|\n",
      "|juortizt@unal.edu.co|                    8|2021-04-13 09:36:59|2021-04-08 08:10:30|\n",
      "|juriveras@unal.ed...|                    8|2021-04-13 09:41:13|2021-04-08 08:13:32|\n",
      "|keariasb@unal.edu.co|                    8|2021-04-13 09:40:58|2021-04-08 08:20:28|\n",
      "| kmolano@unal.edu.co|                    8|2021-04-13 09:40:54|2021-04-08 08:13:07|\n",
      "| mcallea@unal.edu.co|                    8|2021-04-13 09:42:20|2021-04-08 08:13:21|\n",
      "|mcarvajalsa@unal....|                    8|2021-04-13 09:39:36|2021-04-08 08:12:02|\n",
      "|mizapataa@unal.ed...|                    8|2021-04-13 09:40:22|2021-04-08 08:13:19|\n",
      "|nsalinas@unal.edu.co|                    8|2021-04-13 10:02:00|2021-04-08 08:12:22|\n",
      "|nvalenciat@unal.e...|                    8|2021-04-13 09:39:34|2021-04-08 08:10:18|\n",
      "|parestrepoo@unal....|                    8|2021-04-13 09:40:18|2021-04-08 08:11:06|\n",
      "|sacastrot@unal.ed...|                    8|2021-04-13 10:01:17|2021-04-08 08:12:57|\n",
      "|seagudeloo@unal.e...|                    8|2021-04-13 09:39:41|2021-04-08 08:10:28|\n",
      "|sednarvaezna@unal...|                    8|2021-04-13 09:41:04|2021-04-08 08:12:17|\n",
      "|serendona@unal.ed...|                    8|2021-04-13 09:40:25|2021-04-08 08:10:47|\n",
      "|   tleon@unal.edu.co|                    8|2021-04-13 09:40:37|2021-04-08 08:45:27|\n",
      "| wocampo@unal.edu.co|                    8|2021-04-13 10:01:37|2021-04-08 08:13:16|\n",
      "| abanolc@unal.edu.co|                    7|2021-04-13 09:37:56|2021-04-08 08:12:14|\n",
      "|  dbrito@unal.edu.co|                    7|2021-04-13 09:41:36|2021-04-08 08:19:07|\n",
      "|dosoriom@unal.edu.co|                    7|2021-04-13 09:57:53|2021-04-08 08:28:12|\n",
      "|emlopezr@unal.edu.co|                    7|2021-04-13 09:40:55|2021-04-08 08:12:45|\n",
      "|eporrasm@unal.edu.co|                    7|2021-04-13 09:42:11|2021-04-08 08:10:35|\n",
      "|hriveraa@unal.edu.co|                    7|2021-04-13 09:42:59|2021-04-08 08:12:03|\n",
      "|jhcordoba@unal.ed...|                    7|2021-04-13 09:10:12|2021-04-08 08:12:03|\n",
      "|jppinedal@unal.ed...|                    7|2021-04-13 09:42:46|2021-04-08 08:07:55|\n",
      "|lbarcelo@unal.edu.co|                    7|2021-04-13 09:12:18|2021-04-08 08:10:54|\n",
      "| lrdiaza@unal.edu.co|                    7|2021-04-13 09:45:20|2021-04-08 08:14:53|\n",
      "|mhernandezbe@unal...|                    7|2021-04-13 08:41:01|2021-04-08 08:44:54|\n",
      "|cquinchiar@unal.e...|                    6|2021-04-13 09:49:09|2021-04-08 08:33:32|\n",
      "|   lmazo@unal.edu.co|                    5|2021-04-08 09:48:30|2021-04-08 08:15:58|\n",
      "|jdroldano@unal.ed...|                    1|2021-04-08 08:20:16|2021-04-08 08:20:16|\n",
      "+--------------------+---------------------+-------------------+-------------------+\n",
      "\n"
     ]
    }
   ],
   "source": [
    "# 3. Consulte la cantidad de asistencias registradas por estudiante; además, la fecha y hora de la primera asistencia\n",
    "# y la fecha y hora de la última asistencia\n",
    "# Tu código a continuación...\n",
    "\n",
    "Asistencia = Asistencia.withColumn(\"Marca temporal\",(to_timestamp(Asistencia[\"Marca temporal\"], 'yyyy/MM/dd HH:mm:ss')))\n",
    "\n",
    "Asistencia.groupBy(\"Nombre de usuario\").agg(F.count('Nombre de usuario').alias(\"Número de asistencias\"), \n",
    "                                            F.max(\"Marca temporal\").alias(\"Última asistencia\"),\n",
    "                                            F.min(\"Marca temporal\").alias(\"Primera asistencia\")).orderBy([\"Número de asistencias\",\"Nombre de usuario\"],ascending=[False,True]).show(3000)"
   ]
  },
  {
   "cell_type": "code",
   "execution_count": 216,
   "metadata": {},
   "outputs": [],
   "source": [
    "from pyspark.sql.types import IntegerType"
   ]
  },
  {
   "cell_type": "code",
   "execution_count": 217,
   "metadata": {},
   "outputs": [
    {
     "name": "stdout",
     "output_type": "stream",
     "text": [
      "+--------------------+---------------------+-------------------+-------------------+\n",
      "|   Nombre de usuario|Número de asistencias|  Última asistencia| Primera asistencia|\n",
      "+--------------------+---------------------+-------------------+-------------------+\n",
      "|jdroldano@unal.ed...|                    1|2021-04-08 08:20:16|2021-04-08 08:20:16|\n",
      "+--------------------+---------------------+-------------------+-------------------+\n",
      "\n"
     ]
    }
   ],
   "source": [
    "# 4. Consulte el listado de estudiantes que asistieron a 2 presentaciones o menos (una).\n",
    "# Tu código a continuación...\n",
    "\n",
    "grupo_asistencias = Asistencia.groupBy(\"Nombre de usuario\").agg(F.count('Nombre de usuario').alias(\"Número de asistencias\"), \n",
    "                                            F.max(\"Marca temporal\").alias(\"Última asistencia\"),\n",
    "                                            F.min(\"Marca temporal\").alias(\"Primera asistencia\")).orderBy([\"Número de asistencias\",\"Nombre de usuario\"],ascending=[False,True])\n",
    "\n",
    "grupo_asistencias.withColumn(\"Número de asistencias\",\n",
    "                             grupo_asistencias[\"Número de asistencias\"].cast(IntegerType())).where(\n",
    "                             grupo_asistencias['Número de asistencias']<=2).show(1000)"
   ]
  },
  {
   "cell_type": "code",
   "execution_count": 218,
   "metadata": {},
   "outputs": [
    {
     "name": "stdout",
     "output_type": "stream",
     "text": [
      "+--------------------+---------------------+-------------------+-------------------+\n",
      "|   Nombre de usuario|Número de asistencias|  Última asistencia| Primera asistencia|\n",
      "+--------------------+---------------------+-------------------+-------------------+\n",
      "|anapariciom@unal....|                   10|2021-04-13 09:38:51|2021-04-08 08:11:49|\n",
      "|favasquezj@unal.e...|                   10|2021-04-13 09:41:00|2021-04-08 08:10:59|\n",
      "|jovillarrealm@una...|                   10|2021-04-13 09:42:55|2021-04-08 08:22:36|\n",
      "|samolinap@unal.ed...|                   10|2021-04-13 09:37:26|2021-04-08 08:11:43|\n",
      "| dadazam@unal.edu.co|                    9|2021-04-13 09:41:14|2021-04-08 08:13:18|\n",
      "|dgarciabl@unal.ed...|                    9|2021-04-13 09:41:04|2021-04-08 08:09:39|\n",
      "|esgarciac@unal.ed...|                    9|2021-04-13 09:39:45|2021-04-08 08:24:10|\n",
      "|jcardonaso@unal.e...|                    9|2021-04-13 09:44:24|2021-04-08 08:10:54|\n",
      "|jlopezpe@unal.edu.co|                    9|2021-04-13 09:09:32|2021-04-08 08:10:54|\n",
      "|jspatinoa@unal.ed...|                    9|2021-04-13 09:41:17|2021-04-08 08:17:24|\n",
      "+--------------------+---------------------+-------------------+-------------------+\n",
      "only showing top 10 rows\n",
      "\n"
     ]
    }
   ],
   "source": [
    "grupo_asistencias.show(10)"
   ]
  },
  {
   "cell_type": "code",
   "execution_count": 219,
   "metadata": {},
   "outputs": [
    {
     "name": "stdout",
     "output_type": "stream",
     "text": [
      "+-----------------+\n",
      "|Nombre de usuario|\n",
      "+-----------------+\n",
      "+-----------------+\n",
      "\n"
     ]
    }
   ],
   "source": [
    "# 5. Consulte el listado de estudiantes que no asistieron a ninguna presentación.\n",
    "# Tu código a continuación...\n",
    "\n",
    "\n",
    "diferentes_estudiantes = Evaluacion.select('Nombre de usuario').distinct().orderBy('Nombre de usuario',ascending=True)\n",
    "diferentes_estudiantes.join(grupo_asistencias,on=[\"Nombre de usuario\"],how = 'left_anti').show(10)\n"
   ]
  },
  {
   "cell_type": "code",
   "execution_count": 220,
   "metadata": {},
   "outputs": [],
   "source": [
    "from  pyspark.sql.functions import concat_ws\n",
    "from  pyspark.sql.functions import collect_list\n",
    "from  pyspark.sql.functions import regexp_replace"
   ]
  },
  {
   "cell_type": "code",
   "execution_count": 231,
   "metadata": {},
   "outputs": [
    {
     "data": {
      "text/html": [
       "<div>\n",
       "<style scoped>\n",
       "    .dataframe tbody tr th:only-of-type {\n",
       "        vertical-align: middle;\n",
       "    }\n",
       "\n",
       "    .dataframe tbody tr th {\n",
       "        vertical-align: top;\n",
       "    }\n",
       "\n",
       "    .dataframe thead th {\n",
       "        text-align: right;\n",
       "    }\n",
       "</style>\n",
       "<table border=\"1\" class=\"dataframe\">\n",
       "  <thead>\n",
       "    <tr style=\"text-align: right;\">\n",
       "      <th></th>\n",
       "      <th>Equipo al que perteneces:</th>\n",
       "      <th>Integrantes</th>\n",
       "    </tr>\n",
       "  </thead>\n",
       "  <tbody>\n",
       "    <tr>\n",
       "      <th>0</th>\n",
       "      <td>Lo tengo y te lo presto.</td>\n",
       "      <td>dgarciabl@unal.edu.co, jmunozhe@unal.edu.co, d...</td>\n",
       "    </tr>\n",
       "    <tr>\n",
       "      <th>1</th>\n",
       "      <td>Gestión de Residencias y Habitaciones Univers...</td>\n",
       "      <td>auarbelaeza@unal.edu.co, seagudeloo@unal.edu.c...</td>\n",
       "    </tr>\n",
       "    <tr>\n",
       "      <th>2</th>\n",
       "      <td>Gestión de programas curriculares</td>\n",
       "      <td>jucardonaa@unal.edu.co, jmonsalveb@unal.edu.co...</td>\n",
       "    </tr>\n",
       "    <tr>\n",
       "      <th>3</th>\n",
       "      <td>Mi Sanandresito</td>\n",
       "      <td>fmiranda@unal.edu.co, eporrasm@unal.edu.co, af...</td>\n",
       "    </tr>\n",
       "    <tr>\n",
       "      <th>4</th>\n",
       "      <td>Servicios a domicilio</td>\n",
       "      <td>jppinedal@unal.edu.co, jmunozbo@unal.edu.co, a...</td>\n",
       "    </tr>\n",
       "    <tr>\n",
       "      <th>5</th>\n",
       "      <td>Administración de Inmuebles</td>\n",
       "      <td>lumarinb@unal.edu.co, framirezf@unal.edu.co, s...</td>\n",
       "    </tr>\n",
       "    <tr>\n",
       "      <th>6</th>\n",
       "      <td>Te lo cambio.</td>\n",
       "      <td>dgerenal@unal.edu.co, nvalenciat@unal.edu.co, ...</td>\n",
       "    </tr>\n",
       "    <tr>\n",
       "      <th>7</th>\n",
       "      <td>Gestión de Menús Ejecutivos</td>\n",
       "      <td>jcardonaso@unal.edu.co, favasquezj@unal.edu.co...</td>\n",
       "    </tr>\n",
       "  </tbody>\n",
       "</table>\n",
       "</div>"
      ],
      "text/plain": [
       "                           Equipo al que perteneces:  \\\n",
       "0                           Lo tengo y te lo presto.   \n",
       "1   Gestión de Residencias y Habitaciones Univers...   \n",
       "2                  Gestión de programas curriculares   \n",
       "3                                    Mi Sanandresito   \n",
       "4                              Servicios a domicilio   \n",
       "5                        Administración de Inmuebles   \n",
       "6                                      Te lo cambio.   \n",
       "7                        Gestión de Menús Ejecutivos   \n",
       "\n",
       "                                         Integrantes  \n",
       "0  dgarciabl@unal.edu.co, jmunozhe@unal.edu.co, d...  \n",
       "1  auarbelaeza@unal.edu.co, seagudeloo@unal.edu.c...  \n",
       "2  jucardonaa@unal.edu.co, jmonsalveb@unal.edu.co...  \n",
       "3  fmiranda@unal.edu.co, eporrasm@unal.edu.co, af...  \n",
       "4  jppinedal@unal.edu.co, jmunozbo@unal.edu.co, a...  \n",
       "5  lumarinb@unal.edu.co, framirezf@unal.edu.co, s...  \n",
       "6  dgerenal@unal.edu.co, nvalenciat@unal.edu.co, ...  \n",
       "7  jcardonaso@unal.edu.co, favasquezj@unal.edu.co...  "
      ]
     },
     "execution_count": 231,
     "metadata": {},
     "output_type": "execute_result"
    }
   ],
   "source": [
    "# 6. Consulte los integrantes por cada equipo al que pertenecen.\n",
    "# Tu código a continuación...\n",
    "\n",
    "Asistencia_fixed = Asistencia.withColumn(\"Equipo al que perteneces:\", regexp_replace(\"Equipo al que perteneces:\", 'Pertenezco a:', ''))\n",
    "\n",
    "Asistencia_fixed.groupby(\"Equipo al que perteneces:\").agg(concat_ws(\", \",collect_list(\"Nombre de usuario\")).alias(\"Integrantes\")).toPandas()"
   ]
  },
  {
   "cell_type": "code",
   "execution_count": 232,
   "metadata": {},
   "outputs": [],
   "source": [
    "Asistencia_fixed = Asistencia_fixed.withColumn(\"Equipo que va a exponer:\", regexp_replace(\"Equipo que va a exponer:\", 'Expone: ',\"\"))"
   ]
  },
  {
   "cell_type": "code",
   "execution_count": 233,
   "metadata": {},
   "outputs": [
    {
     "name": "stdout",
     "output_type": "stream",
     "text": [
      "+-------------------+--------------------+-------------------------+------------------------+\n",
      "|     Marca temporal|   Nombre de usuario|Equipo al que perteneces:|Equipo que va a exponer:|\n",
      "+-------------------+--------------------+-------------------------+------------------------+\n",
      "|2021-04-08 08:07:55|jppinedal@unal.ed...|      Servicios a domi...|    Servicios a domic...|\n",
      "+-------------------+--------------------+-------------------------+------------------------+\n",
      "only showing top 1 row\n",
      "\n"
     ]
    }
   ],
   "source": [
    "Asistencia_fixed.show(1)"
   ]
  },
  {
   "cell_type": "code",
   "execution_count": 267,
   "metadata": {},
   "outputs": [
    {
     "name": "stdout",
     "output_type": "stream",
     "text": [
      "+------------------------+----------+\n",
      "|Equipo que va a exponer:|Asistentes|\n",
      "+------------------------+----------+\n",
      "|    Servicios a domic...|        76|\n",
      "|           Te lo cambio.|        75|\n",
      "|    Lo tengo y te lo ...|        75|\n",
      "|    Gestión de progra...|        74|\n",
      "|    Gestión de Reside...|        72|\n",
      "|    Gestión de Menús ...|        72|\n",
      "|         Mi Sanandresito|        72|\n",
      "|    Administración de...|        70|\n",
      "|    Deserción de estu...|         3|\n",
      "+------------------------+----------+\n",
      "\n"
     ]
    }
   ],
   "source": [
    "# 7. Consulte la cantidad de asistentes por presentación, sin considerar los asistentes que pertenecen \n",
    "# al equipo que realizó la presentación.\n",
    "# Tu código a continuación...\n",
    "\n",
    "Asistencia_fixed_2 = Asistencia_fixed.withColumn(\"Equipo que va a exponer:\",trim(Asistencia_fixed[\"Equipo que va a exponer:\"])) ## trim \n",
    "Asistencia_fixed_2 = Asistencia_fixed_2.withColumn(\"Equipo al que perteneces:\",trim(Asistencia_fixed_2[\"Equipo al que perteneces:\"])) ## trim \n",
    "\n",
    "Asistencia_fixed_2.where(Asistencia_fixed_2[\"Equipo que va a exponer:\"] != \n",
    "                         Asistencia_fixed_2[\"Equipo al que perteneces:\"]).groupBy(\"Equipo que va a exponer:\").agg(\n",
    "                         F.count(\"Nombre de usuario\").alias(\"Asistentes\")).orderBy(\"Asistentes\",ascending=False).show(1000)"
   ]
  },
  {
   "cell_type": "code",
   "execution_count": null,
   "metadata": {},
   "outputs": [],
   "source": [
    "# 8. Consutar cuáles integrantes evaluaron a su propio equipo. Estas evaluaciones no serán válidas, pues un\n",
    "# integrante no puede evaluar a su propio equipo.\n",
    "# Tu código a continuación...\n"
   ]
  },
  {
   "cell_type": "code",
   "execution_count": null,
   "metadata": {},
   "outputs": [],
   "source": [
    "# 9. Consultar la nota promedio por cada ítem (1 al 15), y la nota promedio total del cada equipo. Recuerde que no\n",
    "# son válidas las evaluaciones realizadas por los miembros del mismo equipo.\n",
    "# Tu código a continuación...\n"
   ]
  },
  {
   "cell_type": "code",
   "execution_count": null,
   "metadata": {},
   "outputs": [],
   "source": [
    "# 10. Consulte el mejor equipo evaluado por cada ítem (según nota promedio. En caso de empate mostrar todos los empatados) \n",
    "# y el mejor equipo según el promedio total.\n",
    "# Tu código a continuación...\n"
   ]
  },
  {
   "cell_type": "code",
   "execution_count": null,
   "metadata": {},
   "outputs": [],
   "source": [
    "# 11. Consulte el peor equipo evaluado por cada ítem (según nota promedio. En caso de empate mostrar todos los empatados) \n",
    "# y el peor equipo según el promedio total.\n",
    "# Tu código a continuación...\n"
   ]
  },
  {
   "cell_type": "code",
   "execution_count": null,
   "metadata": {},
   "outputs": [],
   "source": [
    "# 12. Consulte la lista de estudiantes con la correspondiente nota obtenida en la presentación \n",
    "# (nota promedio total de la evaluación obtenida por el equipo)\n",
    "# Tu código a continuación...\n"
   ]
  }
 ],
 "metadata": {
  "kernelspec": {
   "display_name": "Python 3",
   "language": "python",
   "name": "python3"
  },
  "language_info": {
   "codemirror_mode": {
    "name": "ipython",
    "version": 3
   },
   "file_extension": ".py",
   "mimetype": "text/x-python",
   "name": "python",
   "nbconvert_exporter": "python",
   "pygments_lexer": "ipython3",
   "version": "3.6.9"
  }
 },
 "nbformat": 4,
 "nbformat_minor": 4
}
